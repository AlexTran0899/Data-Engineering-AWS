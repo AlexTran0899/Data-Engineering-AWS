{
 "cells": [
  {
   "cell_type": "markdown",
   "metadata": {},
   "source": [
    "# Exercise 3: Parallel ETL"
   ]
  },
  {
   "cell_type": "code",
   "execution_count": 11,
   "metadata": {},
   "outputs": [],
   "source": [
    "%load_ext sql"
   ]
  },
  {
   "cell_type": "code",
   "execution_count": 2,
   "metadata": {},
   "outputs": [],
   "source": [
    "import boto3\n",
    "import configparser\n",
    "import matplotlib.pyplot as plt\n",
    "import pandas as pd\n",
    "from time import time"
   ]
  },
  {
   "cell_type": "markdown",
   "metadata": {},
   "source": [
    "# STEP 1: Get the params of the created redshift cluster \n",
    "- We need:\n",
    "    - The redshift cluster <font color='red'>endpoint</font>\n",
    "    - The <font color='red'>IAM role ARN</font> that give access to Redshift to read from S3"
   ]
  },
  {
   "cell_type": "code",
   "execution_count": 3,
   "metadata": {},
   "outputs": [
    {
     "name": "stdout",
     "output_type": "stream",
     "text": [
      "dwh dwhuser Passw0rd 5439\n"
     ]
    }
   ],
   "source": [
    "config = configparser.ConfigParser()\n",
    "config.read_file(open('dwh.cfg'))\n",
    "KEY                    = config.get('AWS','KEY')\n",
    "SECRET                 = config.get('AWS','SECRET')\n",
    "\n",
    "DWH_DB= config.get(\"DWH\",\"DWH_DB\")\n",
    "DWH_DB_USER= config.get(\"DWH\",\"DWH_DB_USER\")\n",
    "DWH_DB_PASSWORD= config.get(\"DWH\",\"DWH_DB_PASSWORD\")\n",
    "DWH_PORT = config.get(\"DWH\",\"DWH_PORT\")\n",
    "\n",
    "print(DWH_DB, DWH_DB_USER, DWH_DB_PASSWORD, DWH_PORT)\n"
   ]
  },
  {
   "cell_type": "code",
   "execution_count": 4,
   "metadata": {},
   "outputs": [],
   "source": [
    "# FILL IN THE REDSHIFT ENPOINT HERE\n",
    "\n",
    "DWH_ENDPOINT=\"dwhcluster.c7sugqgmfjzq.us-west-2.redshift.amazonaws.com\" \n",
    "\n",
    "DWH_ROLE_ARN=\"arn:aws:iam::988451517811:role/dwhRole\""
   ]
  },
  {
   "cell_type": "markdown",
   "metadata": {},
   "source": [
    "# STEP 2: Connect to the Redshift Cluster"
   ]
  },
  {
   "cell_type": "code",
   "execution_count": null,
   "metadata": {},
   "outputs": [],
   "source": [
    "import psycopg2\n",
    "\n",
    "def run_query(sql):\n",
    "    try:\n",
    "        conn = psycopg2.connect(\n",
    "            dbname='dwh',\n",
    "            user='dwhuser',\n",
    "            password='Passw0rd',\n",
    "            host='dwhcluster.c7sugqgmfjzq.us-west-2.redshift.amazonaws.com',\n",
    "            port='5439'\n",
    "        )\n",
    "        cur = conn.cursor()\n",
    "        cur.execute(sql.strip())\n",
    "\n",
    "        conn.commit()  # in case it's not autocommit\n",
    "        cur.close()\n",
    "        conn.close()\n",
    "        return \"✅ Query executed.\"\n",
    "\n",
    "    except Exception as e:\n",
    "        print(\"❌ Query failed:\", e)\n",
    "        return None"
   ]
  },
  {
   "cell_type": "code",
   "execution_count": 5,
   "metadata": {},
   "outputs": [],
   "source": [
    "import boto3\n",
    "\n",
    "s3 = boto3.resource(\n",
    "    's3',\n",
    "    region_name='us-west-2',\n",
    "    aws_access_key_id=KEY,\n",
    "    aws_secret_access_key=SECRET\n",
    ")\n",
    "\n",
    "sampleDbBucket = s3.Bucket('udacity-labs')\n"
   ]
  },
  {
   "cell_type": "code",
   "execution_count": 6,
   "metadata": {},
   "outputs": [
    {
     "name": "stdout",
     "output_type": "stream",
     "text": [
      "s3.ObjectSummary(bucket_name='udacity-labs', key='tickets/')\n",
      "s3.ObjectSummary(bucket_name='udacity-labs', key='tickets/full/')\n",
      "s3.ObjectSummary(bucket_name='udacity-labs', key='tickets/full/full.csv.gz')\n",
      "s3.ObjectSummary(bucket_name='udacity-labs', key='tickets/split/')\n",
      "s3.ObjectSummary(bucket_name='udacity-labs', key='tickets/split/part-00000-d33afb94-b8af-407d-abd5-59c0ee8f5ee8-c000.csv.gz')\n",
      "s3.ObjectSummary(bucket_name='udacity-labs', key='tickets/split/part-00001-d33afb94-b8af-407d-abd5-59c0ee8f5ee8-c000.csv.gz')\n",
      "s3.ObjectSummary(bucket_name='udacity-labs', key='tickets/split/part-00002-d33afb94-b8af-407d-abd5-59c0ee8f5ee8-c000.csv.gz')\n",
      "s3.ObjectSummary(bucket_name='udacity-labs', key='tickets/split/part-00003-d33afb94-b8af-407d-abd5-59c0ee8f5ee8-c000.csv.gz')\n",
      "s3.ObjectSummary(bucket_name='udacity-labs', key='tickets/split/part-00004-d33afb94-b8af-407d-abd5-59c0ee8f5ee8-c000.csv.gz')\n",
      "s3.ObjectSummary(bucket_name='udacity-labs', key='tickets/split/part-00005-d33afb94-b8af-407d-abd5-59c0ee8f5ee8-c000.csv.gz')\n",
      "s3.ObjectSummary(bucket_name='udacity-labs', key='tickets/split/part-00006-d33afb94-b8af-407d-abd5-59c0ee8f5ee8-c000.csv.gz')\n",
      "s3.ObjectSummary(bucket_name='udacity-labs', key='tickets/split/part-00007-d33afb94-b8af-407d-abd5-59c0ee8f5ee8-c000.csv.gz')\n",
      "s3.ObjectSummary(bucket_name='udacity-labs', key='tickets/split/part-00008-d33afb94-b8af-407d-abd5-59c0ee8f5ee8-c000.csv.gz')\n",
      "s3.ObjectSummary(bucket_name='udacity-labs', key='tickets/split/part-00009-d33afb94-b8af-407d-abd5-59c0ee8f5ee8-c000.csv.gz')\n"
     ]
    }
   ],
   "source": [
    "for obj in sampleDbBucket.objects.filter(Prefix=\"tickets\"):\n",
    "    print(obj)"
   ]
  },
  {
   "cell_type": "markdown",
   "metadata": {},
   "source": [
    "# STEP 3: Create Tables"
   ]
  },
  {
   "cell_type": "code",
   "execution_count": 69,
   "metadata": {},
   "outputs": [
    {
     "name": "stdout",
     "output_type": "stream",
     "text": [
      "✅ Query executed.\n",
      "✅ Query executed.\n"
     ]
    }
   ],
   "source": [
    "query = 'DROP TABLE IF EXISTS \"sport_event_ticket\";'\n",
    "print(run_query(query))\n",
    "    \n",
    "query = \"\"\"CREATE TABLE \"sport_event_ticket\" (\n",
    "        \"id\" double precision DEFAULT nextval('sport_event_ticket') NOT NULL,\n",
    "        \"sporting_event_id\" double precision NOT NULL,\n",
    "        \"sport_location_id\" double precision NOT NULL,\n",
    "        \"seat_level\" numeric(1,0) NOT NULL,\n",
    "        \"seat_section\" character varying(15) NOT NULL,\n",
    "        \"seat_row\" character varying(10) NOT NULL,\n",
    "        \"seat\" character varying(10) NOT NULL,\n",
    "        \"ticketholder_id\" double precision,\n",
    "        \"ticket_price\" numeric(8,2) NOT NULL\n",
    "    );\n",
    "\"\"\"\n",
    "\n",
    "result = run_query(query)\n",
    "print(result)"
   ]
  },
  {
   "cell_type": "markdown",
   "metadata": {},
   "source": [
    "# STEP 4: Load Partitioned data into the cluster\n",
    "Use the COPY command to load data from `s3://udacity-labs/tickets/split/part` using your iam role credentials. Use gzip delimiter `;`."
   ]
  },
  {
   "cell_type": "code",
   "execution_count": 73,
   "metadata": {},
   "outputs": [
    {
     "name": "stdout",
     "output_type": "stream",
     "text": [
      "✅ Query executed.\n"
     ]
    }
   ],
   "source": [
    "\n",
    "query2 = \"\"\"\n",
    "COPY sport_event_ticket FROM 's3://udacity-labs/tickets/split/part'\n",
    "CREDENTIALS 'aws_iam_role=arn:aws:iam::988451517811:role/dwhRole'\n",
    "gzip delimiter ';' REGION 'us-west-2'\n",
    "\"\"\".format(DWH_ROLE_ARN)\n",
    "\n",
    "result = run_query(query2)\n",
    "print(result)"
   ]
  },
  {
   "cell_type": "markdown",
   "metadata": {},
   "source": [
    "# STEP 5: Create Tables for the non-partitioned data"
   ]
  },
  {
   "cell_type": "code",
   "execution_count": 74,
   "metadata": {},
   "outputs": [
    {
     "name": "stdout",
     "output_type": "stream",
     "text": [
      "✅ Query executed.\n",
      "✅ Query executed.\n"
     ]
    }
   ],
   "source": [
    "\n",
    "query = 'DROP TABLE IF EXISTS \"sport_event_ticket_full\";'\n",
    "print(run_query(query))\n",
    "\n",
    "query = \"\"\"CREATE TABLE \"sport_event_ticket_full\" (\n",
    "    \"id\" double precision DEFAULT nextval('sport_event_ticket_seq') NOT NULL,\n",
    "    \"sporting_event_id\" double precision NOT NULL,\n",
    "    \"sport_location_id\" double precision NOT NULL,\n",
    "    \"seat_level\" numeric(1,0) NOT NULL,\n",
    "    \"seat_section\" character varying(15) NOT NULL,\n",
    "    \"seat_row\" character varying(10) NOT NULL,\n",
    "    \"seat\" character varying(10) NOT NULL,\n",
    "    \"ticketholder_id\" double precision,\n",
    "    \"ticket_price\" numeric(8,2) NOT NULL\n",
    ");\"\"\"\n",
    "print(run_query(query))"
   ]
  },
  {
   "cell_type": "markdown",
   "metadata": {},
   "source": [
    "# STEP 6: Load non-partitioned data into the cluster\n",
    "Use the COPY command to load data from `s3://udacity-labs/tickets/full/full.csv.gz` using your iam role credentials. Use gzip delimiter `;`.\n",
    "\n",
    "- Note how it's slower than loading partitioned data"
   ]
  },
  {
   "cell_type": "code",
   "execution_count": null,
   "metadata": {},
   "outputs": [],
   "source": [
    "\n",
    "query2 = \"\"\"\n",
    "COPY sport_event_ticket_full FROM 's3://udacity-labs/tickets/full/full.csv.gz'\n",
    "CREDENTIALS 'aws_iam_role=arn:aws:iam::988451517811:role/dwhRole'\n",
    "gzip delimiter ';' REGION 'us-west-2'\n",
    "\"\"\".format(DWH_ROLE_ARN)\n",
    "\n",
    "result = run_query(query2)\n",
    "print(result)"
   ]
  },
  {
   "cell_type": "code",
   "execution_count": null,
   "metadata": {},
   "outputs": [],
   "source": []
  }
 ],
 "metadata": {
  "kernelspec": {
   "display_name": "udacity-GmQ3oDao",
   "language": "python",
   "name": "python3"
  },
  "language_info": {
   "codemirror_mode": {
    "name": "ipython",
    "version": 3
   },
   "file_extension": ".py",
   "mimetype": "text/x-python",
   "name": "python",
   "nbconvert_exporter": "python",
   "pygments_lexer": "ipython3",
   "version": "3.13.3"
  }
 },
 "nbformat": 4,
 "nbformat_minor": 2
}
